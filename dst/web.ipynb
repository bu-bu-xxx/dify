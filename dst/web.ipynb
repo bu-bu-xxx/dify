{
 "cells": [
  {
   "cell_type": "code",
   "execution_count": 3,
   "metadata": {},
   "outputs": [],
   "source": [
    "# combine the web from 饥荒维基1.csv to 饥荒维基8.csv\n",
    "\n",
    "import os\n",
    "import sys\n",
    "import pandas as pd\n",
    "import numpy as np\n",
    "\n",
    "data_list = []\n",
    "for i in range(1, 9):\n",
    "    data = pd.read_csv(f'./data/饥荒维基{i}.csv')\n",
    "    data_list.append(data)"
   ]
  },
  {
   "cell_type": "code",
   "execution_count": 4,
   "metadata": {},
   "outputs": [
    {
     "data": {
      "text/html": [
       "<div>\n",
       "<style scoped>\n",
       "    .dataframe tbody tr th:only-of-type {\n",
       "        vertical-align: middle;\n",
       "    }\n",
       "\n",
       "    .dataframe tbody tr th {\n",
       "        vertical-align: top;\n",
       "    }\n",
       "\n",
       "    .dataframe thead th {\n",
       "        text-align: right;\n",
       "    }\n",
       "</style>\n",
       "<table border=\"1\" class=\"dataframe\">\n",
       "  <thead>\n",
       "    <tr style=\"text-align: right;\">\n",
       "      <th></th>\n",
       "      <th>标题</th>\n",
       "      <th>标题链接</th>\n",
       "    </tr>\n",
       "  </thead>\n",
       "  <tbody>\n",
       "    <tr>\n",
       "      <th>0</th>\n",
       "      <td>\"猪圈\"奇异商店</td>\n",
       "      <td>https://dontstarve.huijiwiki.com/wiki/%22%E7%8...</td>\n",
       "    </tr>\n",
       "    <tr>\n",
       "      <th>1</th>\n",
       "      <td>\"葡萄干\"</td>\n",
       "      <td>https://dontstarve.huijiwiki.com/wiki/%22%E8%9...</td>\n",
       "    </tr>\n",
       "    <tr>\n",
       "      <th>2</th>\n",
       "      <td>3个鸦年华代币</td>\n",
       "      <td>https://dontstarve.huijiwiki.com/wiki/3%E4%B8%...</td>\n",
       "    </tr>\n",
       "    <tr>\n",
       "      <th>3</th>\n",
       "      <td>Boss生物</td>\n",
       "      <td>https://dontstarve.huijiwiki.com/wiki/Boss%E7%...</td>\n",
       "    </tr>\n",
       "    <tr>\n",
       "      <th>4</th>\n",
       "      <td>DLC</td>\n",
       "      <td>https://dontstarve.huijiwiki.com/wiki/DLC</td>\n",
       "    </tr>\n",
       "    <tr>\n",
       "      <th>...</th>\n",
       "      <td>...</td>\n",
       "      <td>...</td>\n",
       "    </tr>\n",
       "    <tr>\n",
       "      <th>340</th>\n",
       "      <td>发光飞虫</td>\n",
       "      <td>https://dontstarve.huijiwiki.com/wiki/%E5%8F%9...</td>\n",
       "    </tr>\n",
       "    <tr>\n",
       "      <th>341</th>\n",
       "      <td>发条生物</td>\n",
       "      <td>https://dontstarve.huijiwiki.com/wiki/%E5%8F%9...</td>\n",
       "    </tr>\n",
       "    <tr>\n",
       "      <th>342</th>\n",
       "      <td>发条骑士</td>\n",
       "      <td>https://dontstarve.huijiwiki.com/wiki/%E5%8F%9...</td>\n",
       "    </tr>\n",
       "    <tr>\n",
       "      <th>343</th>\n",
       "      <td>发芽的石果</td>\n",
       "      <td>https://dontstarve.huijiwiki.com/wiki/%E5%8F%9...</td>\n",
       "    </tr>\n",
       "    <tr>\n",
       "      <th>344</th>\n",
       "      <td>发电机</td>\n",
       "      <td>https://dontstarve.huijiwiki.com/wiki/%E5%8F%9...</td>\n",
       "    </tr>\n",
       "  </tbody>\n",
       "</table>\n",
       "<p>345 rows × 2 columns</p>\n",
       "</div>"
      ],
      "text/plain": [
       "           标题                                               标题链接\n",
       "0    \"猪圈\"奇异商店  https://dontstarve.huijiwiki.com/wiki/%22%E7%8...\n",
       "1       \"葡萄干\"  https://dontstarve.huijiwiki.com/wiki/%22%E8%9...\n",
       "2     3个鸦年华代币  https://dontstarve.huijiwiki.com/wiki/3%E4%B8%...\n",
       "3      Boss生物  https://dontstarve.huijiwiki.com/wiki/Boss%E7%...\n",
       "4         DLC          https://dontstarve.huijiwiki.com/wiki/DLC\n",
       "..        ...                                                ...\n",
       "340      发光飞虫  https://dontstarve.huijiwiki.com/wiki/%E5%8F%9...\n",
       "341      发条生物  https://dontstarve.huijiwiki.com/wiki/%E5%8F%9...\n",
       "342      发条骑士  https://dontstarve.huijiwiki.com/wiki/%E5%8F%9...\n",
       "343     发芽的石果  https://dontstarve.huijiwiki.com/wiki/%E5%8F%9...\n",
       "344       发电机  https://dontstarve.huijiwiki.com/wiki/%E5%8F%9...\n",
       "\n",
       "[345 rows x 2 columns]"
      ]
     },
     "execution_count": 4,
     "metadata": {},
     "output_type": "execute_result"
    }
   ],
   "source": [
    "data_list[0]"
   ]
  },
  {
   "cell_type": "code",
   "execution_count": 23,
   "metadata": {},
   "outputs": [
    {
     "data": {
      "text/plain": [
       "'%E4%B8%80%E8%A7%92%E9%B2%B8%E7%9A%84%E8%A7%92'"
      ]
     },
     "execution_count": 23,
     "metadata": {},
     "output_type": "execute_result"
    }
   ],
   "source": [
    "data_list[0].iloc[30, 1].split('/')[-1]"
   ]
  },
  {
   "cell_type": "code",
   "execution_count": 30,
   "metadata": {},
   "outputs": [
    {
     "data": {
      "text/html": [
       "<div>\n",
       "<style scoped>\n",
       "    .dataframe tbody tr th:only-of-type {\n",
       "        vertical-align: middle;\n",
       "    }\n",
       "\n",
       "    .dataframe tbody tr th {\n",
       "        vertical-align: top;\n",
       "    }\n",
       "\n",
       "    .dataframe thead th {\n",
       "        text-align: right;\n",
       "    }\n",
       "</style>\n",
       "<table border=\"1\" class=\"dataframe\">\n",
       "  <thead>\n",
       "    <tr style=\"text-align: right;\">\n",
       "      <th></th>\n",
       "      <th>标题</th>\n",
       "      <th>标题链接</th>\n",
       "      <th>源码链接</th>\n",
       "    </tr>\n",
       "  </thead>\n",
       "  <tbody>\n",
       "    <tr>\n",
       "      <th>0</th>\n",
       "      <td>\"猪圈\"奇异商店</td>\n",
       "      <td>https://dontstarve.huijiwiki.com/wiki/%22%E7%8...</td>\n",
       "      <td>https://dontstarve.huijiwiki.com/index.php?tit...</td>\n",
       "    </tr>\n",
       "    <tr>\n",
       "      <th>1</th>\n",
       "      <td>\"葡萄干\"</td>\n",
       "      <td>https://dontstarve.huijiwiki.com/wiki/%22%E8%9...</td>\n",
       "      <td>https://dontstarve.huijiwiki.com/index.php?tit...</td>\n",
       "    </tr>\n",
       "    <tr>\n",
       "      <th>2</th>\n",
       "      <td>3个鸦年华代币</td>\n",
       "      <td>https://dontstarve.huijiwiki.com/wiki/3%E4%B8%...</td>\n",
       "      <td>https://dontstarve.huijiwiki.com/index.php?tit...</td>\n",
       "    </tr>\n",
       "    <tr>\n",
       "      <th>3</th>\n",
       "      <td>Boss生物</td>\n",
       "      <td>https://dontstarve.huijiwiki.com/wiki/Boss%E7%...</td>\n",
       "      <td>https://dontstarve.huijiwiki.com/index.php?tit...</td>\n",
       "    </tr>\n",
       "    <tr>\n",
       "      <th>4</th>\n",
       "      <td>DLC</td>\n",
       "      <td>https://dontstarve.huijiwiki.com/wiki/DLC</td>\n",
       "      <td>https://dontstarve.huijiwiki.com/index.php?tit...</td>\n",
       "    </tr>\n",
       "  </tbody>\n",
       "</table>\n",
       "</div>"
      ],
      "text/plain": [
       "         标题                                               标题链接  \\\n",
       "0  \"猪圈\"奇异商店  https://dontstarve.huijiwiki.com/wiki/%22%E7%8...   \n",
       "1     \"葡萄干\"  https://dontstarve.huijiwiki.com/wiki/%22%E8%9...   \n",
       "2   3个鸦年华代币  https://dontstarve.huijiwiki.com/wiki/3%E4%B8%...   \n",
       "3    Boss生物  https://dontstarve.huijiwiki.com/wiki/Boss%E7%...   \n",
       "4       DLC          https://dontstarve.huijiwiki.com/wiki/DLC   \n",
       "\n",
       "                                                源码链接  \n",
       "0  https://dontstarve.huijiwiki.com/index.php?tit...  \n",
       "1  https://dontstarve.huijiwiki.com/index.php?tit...  \n",
       "2  https://dontstarve.huijiwiki.com/index.php?tit...  \n",
       "3  https://dontstarve.huijiwiki.com/index.php?tit...  \n",
       "4  https://dontstarve.huijiwiki.com/index.php?tit...  "
      ]
     },
     "execution_count": 30,
     "metadata": {},
     "output_type": "execute_result"
    }
   ],
   "source": [
    "data_combine = pd.concat(data_list, ignore_index=True)\n",
    "data_combine['源码链接'] = data_combine['标题链接']\n",
    "for i in range(len(data_combine)):\n",
    "    tmp_search = data_combine.iloc[i, 2].split('/')[-1]\n",
    "    data_combine.iloc[i, 2] = f\"https://dontstarve.huijiwiki.com/index.php?title={tmp_search}&action=edit\"\n",
    "data_combine.head(5)"
   ]
  },
  {
   "cell_type": "code",
   "execution_count": 31,
   "metadata": {},
   "outputs": [
    {
     "data": {
      "text/plain": [
       "'https://dontstarve.huijiwiki.com/index.php?title=%E4%B8%80%E8%A7%92%E9%B2%B8%E7%9A%84%E8%A7%92&action=edit'"
      ]
     },
     "execution_count": 31,
     "metadata": {},
     "output_type": "execute_result"
    }
   ],
   "source": [
    "data_combine.iloc[30, 2]"
   ]
  },
  {
   "cell_type": "code",
   "execution_count": 34,
   "metadata": {},
   "outputs": [],
   "source": [
    "data_combine.to_csv('./data/饥荒维基all.csv', index=False)\n",
    "data_combine['源码链接'].to_csv('./data/饥荒维基all.txt', index=False)"
   ]
  },
  {
   "cell_type": "code",
   "execution_count": null,
   "metadata": {},
   "outputs": [
    {
     "name": "stdout",
     "output_type": "stream",
     "text": [
      "Just a moment...\n",
      "===============\n",
      "\n",
      "![Image 1: Icon for dontstarve.huijiwiki.com](https://dontstarve.huijiwiki.com/favicon.ico)dontstarve.huijiwiki.com\n",
      "===================================================================================================================\n",
      "\n",
      "Verifying you are human. This may take a few seconds.\n",
      "\n",
      "dontstarve.huijiwiki.com needs to review the security of your connection before proceeding.\n",
      "\n",
      "Verification successful\n",
      "\n",
      "Waiting for dontstarve.huijiwiki.com to respond...\n",
      "\n",
      "Ray ID: `8eb4ea504abfe820`\n",
      "\n",
      "Performance & security by [Cloudflare](https://www.cloudflare.com/?utm_source=challenge&utm_campaign=m)\n"
     ]
    }
   ],
   "source": [
    "# fetch the content from web\n",
    "import requests\n",
    "\n",
    "url = data_list[0].iloc[5, 1]\n",
    "def fetch_content(url):\n",
    "    url = 'https://r.jina.ai/' + url\n",
    "    headers = {\n",
    "        'Authorization': 'Bearer *****',\n",
    "        'X-Return-Format': 'markdown',\n",
    "        }\n",
    "\n",
    "    response = requests.get(url, headers=headers)\n",
    "    return response.text\n",
    "\n",
    "print(fetch_content(url))\n"
   ]
  },
  {
   "cell_type": "code",
   "execution_count": null,
   "metadata": {},
   "outputs": [],
   "source": []
  }
 ],
 "metadata": {
  "kernelspec": {
   "display_name": "venv",
   "language": "python",
   "name": "python3"
  },
  "language_info": {
   "codemirror_mode": {
    "name": "ipython",
    "version": 3
   },
   "file_extension": ".py",
   "mimetype": "text/x-python",
   "name": "python",
   "nbconvert_exporter": "python",
   "pygments_lexer": "ipython3",
   "version": "3.10.12"
  }
 },
 "nbformat": 4,
 "nbformat_minor": 2
}
